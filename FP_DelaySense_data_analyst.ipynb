{
 "cells": [
  {
   "cell_type": "markdown",
   "id": "a34059af",
   "metadata": {},
   "source": [
    "## Exploratory Data Analyst"
   ]
  },
  {
   "cell_type": "code",
   "execution_count": 2,
   "id": "4ea99c8b",
   "metadata": {},
   "outputs": [],
   "source": [
    "# import libraries\n",
    "import pandas as pd\n",
    "import matplotlib.pyplot as plt\n",
    "from scipy.stats import pointbiserialr, chi2_contingency\n"
   ]
  },
  {
   "cell_type": "code",
   "execution_count": null,
   "id": "17e8464f",
   "metadata": {},
   "outputs": [
    {
     "name": "stdout",
     "output_type": "stream",
     "text": [
      "<class 'pandas.core.frame.DataFrame'>\n",
      "RangeIndex: 10999 entries, 0 to 10998\n",
      "Data columns (total 12 columns):\n",
      " #   Column               Non-Null Count  Dtype \n",
      "---  ------               --------------  ----- \n",
      " 0   id                   10999 non-null  int64 \n",
      " 1   warehouse_block      10999 non-null  object\n",
      " 2   mode_of_shipment     10999 non-null  object\n",
      " 3   customer_care_calls  10999 non-null  int64 \n",
      " 4   customer_rating      10999 non-null  int64 \n",
      " 5   cost_of_the_product  10999 non-null  int64 \n",
      " 6   prior_purchases      10999 non-null  int64 \n",
      " 7   product_importance   10999 non-null  object\n",
      " 8   gender               10999 non-null  object\n",
      " 9   discount_offered     10999 non-null  int64 \n",
      " 10  weight_in_gms        10999 non-null  int64 \n",
      " 11  reached_on_time      10999 non-null  int64 \n",
      "dtypes: int64(8), object(4)\n",
      "memory usage: 1.0+ MB\n"
     ]
    }
   ],
   "source": [
    "df = pd.read_csv('FP_DelaySense_dataset_DA.csv')\n",
    "df.info()"
   ]
  },
  {
   "cell_type": "markdown",
   "id": "0b1fdbea",
   "metadata": {},
   "source": [
    "### 1. Berapa banyak barang yang terdistribusi tepat waktu dan barang yang tidak tepat waktu"
   ]
  },
  {
   "cell_type": "code",
   "execution_count": 4,
   "id": "84fedfb9",
   "metadata": {},
   "outputs": [
    {
     "data": {
      "image/png": "[encoded data removed]",
      "text/plain": [
       "<Figure size 700x700 with 1 Axes>"
      ]
     },
     "metadata": {},
     "output_type": "display_data"
    }
   ],
   "source": [
    "# Pastikan urutannya: 0 (tepat waktu), 1 (terlambat)\n",
    "dist = df['reached_on_time'].value_counts().sort_index()\n",
    "\n",
    "# Label sesuai urutan index\n",
    "labels = ['Tepat Waktu (0)', 'Terlambat (1)']\n",
    "\n",
    "# Plot ulang\n",
    "plt.figure(figsize=(7,7))\n",
    "plt.pie(dist, labels=labels, autopct='%1.1f%%', startangle=140, colors=['green','red'])\n",
    "plt.title(\"Persentase Pengiriman Tepat Waktu vs Terlambat\")\n",
    "plt.show()\n"
   ]
  },
  {
   "cell_type": "code",
   "execution_count": 5,
   "id": "af303ed6",
   "metadata": {},
   "outputs": [
    {
     "data": {
      "text/plain": [
       "reached_on_time\n",
       "0    4436\n",
       "1    6563\n",
       "Name: count, dtype: int64"
      ]
     },
     "execution_count": 5,
     "metadata": {},
     "output_type": "execute_result"
    }
   ],
   "source": [
    "dist"
   ]
  },
  {
   "cell_type": "markdown",
   "id": "5688a69e",
   "metadata": {},
   "source": [
    "### 2. Apakah diskon yang besar akan berpengaruh terhadap ketepatan pengirimian?"
   ]
  },
  {
   "cell_type": "markdown",
   "id": "eb04c3a7",
   "metadata": {},
   "source": [
    "Karena kolom discount_offered bertipe numerikal dan kolom reached_on_time bertipe biner maka saya akan menggunakan Point Biserial untuk mengecek Korelasi antar kolom"
   ]
  },
  {
   "cell_type": "code",
   "execution_count": 6,
   "id": "5a5d06dd",
   "metadata": {},
   "outputs": [
    {
     "name": "stdout",
     "output_type": "stream",
     "text": [
      "Point Biserial Correlation: 0.3971\n",
      "P-Value: 0.0000\n"
     ]
    }
   ],
   "source": [
    "correlation, p_value = pointbiserialr(df['reached_on_time'], df['discount_offered'])\n",
    "\n",
    "print(f\"Point Biserial Correlation: {correlation:.4f}\")\n",
    "print(f\"P-Value: {p_value:.4f}\")"
   ]
  },
  {
   "cell_type": "markdown",
   "id": "06610ee1",
   "metadata": {},
   "source": [
    "Dari hasil korelasi yang kita lakukan kita bisa melihat dari nilai Correlationnya sebesar 0.397 ini menjelaskan bahwa terdapat korelasi yang cukup besar antara diskon yang diberikan dengan ketepatan pengiriman, dan karena hasilnya positif artinya semakin tinggi diskon yang diberikan maka semakin besar juga kemungkinan barang akan terlambat.\n",
    "\n",
    "Lalu dari nilai P-Value yang bernilai 0 ini menunjukkan bahwa hubungan ini signifikan secara statistik, dengan kata lain ada bukti yang sangat kuat bahwa diskon berpengaruh terhadap ketepatan waktu pengiriman"
   ]
  },
  {
   "cell_type": "markdown",
   "id": "293cab82",
   "metadata": {},
   "source": [
    "### 3. Apakah mode pengiriman (Flight, Ship, Road) akan berpengaruh terhadap ketepan waktu pengiriman?"
   ]
  },
  {
   "cell_type": "markdown",
   "id": "bf21586b",
   "metadata": {},
   "source": [
    "Karena kedua kolom berifat kategorikal saya akan melakukan uji hipotesis dengan menggunakan Chi-Square Cintigency dengan hipotesis\n",
    "\n",
    "H0 = Tidak ada hubungan antara mode pengiriman dengan ketepatan waktu  \n",
    "H1 = Ada hubungan antara mode pengiriman dan ketepatan waktu"
   ]
  },
  {
   "cell_type": "code",
   "execution_count": 7,
   "id": "5d24ac6c",
   "metadata": {},
   "outputs": [
    {
     "name": "stdout",
     "output_type": "stream",
     "text": [
      "Chi-Square Statistic: 0.7434357246718558\n",
      "Degrees of Freedom: 2\n",
      "P-Value: 0.6895487627593786\n",
      "\n",
      "Tabel Kontingensi:\n",
      "reached_on_time      0     1\n",
      "mode_of_shipment            \n",
      "Flight             708  1069\n",
      "Road               725  1035\n",
      "Ship              3003  4459\n"
     ]
    }
   ],
   "source": [
    "# Buat tabel kontingensi\n",
    "contingency_table = pd.crosstab(df['mode_of_shipment'], df['reached_on_time'])\n",
    "\n",
    "# Lakukan uji Chi-Square\n",
    "chi2, p, dof, expected = chi2_contingency(contingency_table)\n",
    "\n",
    "# Cetak hasil\n",
    "print(\"Chi-Square Statistic:\", chi2)\n",
    "print(\"Degrees of Freedom:\", dof)\n",
    "print(\"P-Value:\", p)\n",
    "print(\"\\nTabel Kontingensi:\")\n",
    "print(contingency_table)"
   ]
  },
  {
   "cell_type": "markdown",
   "id": "52c3e3e4",
   "metadata": {},
   "source": [
    "Dari hasil uji hipotesis dengan chi-square yang sudah dilakukan menunjukkan nilai P-value > 0.05 ini berarti kita gagal menolak H0, artinya tidak ada hubungan antara mode pengiriman dengan ketepatan waktu.\n",
    "\n",
    "Lalu dari hasil chi-square yang kecil (mendekati 0) ini berarti data yang kita miliki mendukung H0, artinya tidak ada hubungan antara mode pengiriman dengan ketepatan waktu "
   ]
  },
  {
   "cell_type": "code",
   "execution_count": null,
   "id": "553a62a2",
   "metadata": {},
   "outputs": [],
   "source": []
  }
 ],
 "metadata": {
  "kernelspec": {
   "display_name": "py39",
   "language": "python",
   "name": "python3"
  },
  "language_info": {
   "codemirror_mode": {
    "name": "ipython",
    "version": 3
   },
   "file_extension": ".py",
   "mimetype": "text/x-python",
   "name": "python",
   "nbconvert_exporter": "python",
   "pygments_lexer": "ipython3",
   "version": "3.9.21"
  }
 },
 "nbformat": 4,
 "nbformat_minor": 5
}
